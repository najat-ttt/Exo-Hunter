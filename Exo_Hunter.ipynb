{
  "nbformat": 4,
  "nbformat_minor": 0,
  "metadata": {
    "colab": {
      "provenance": [],
      "authorship_tag": "ABX9TyOg6SRLlw8pPj/01VIHUVKh",
      "include_colab_link": true
    },
    "kernelspec": {
      "name": "python3",
      "display_name": "Python 3"
    },
    "language_info": {
      "name": "python"
    }
  },
  "cells": [
    {
      "cell_type": "markdown",
      "metadata": {
        "id": "view-in-github",
        "colab_type": "text"
      },
      "source": [
        "<a href=\"https://colab.research.google.com/github/najat-ttt/Exo-Hunter/blob/master/Exo_Hunter.ipynb\" target=\"_parent\"><img src=\"https://colab.research.google.com/assets/colab-badge.svg\" alt=\"Open In Colab\"/></a>"
      ]
    },
    {
      "cell_type": "markdown",
      "source": [
        "#**Task**\n",
        "Keras Model and LightGBM Model creation and Training with exoplanets dataset collected from **NASA** for **Exo-Hunter** project that will be submitted for **NSAC-2025** event.\n"
      ],
      "metadata": {
        "id": "yLfw44CSpy3f"
      }
    },
    {
      "cell_type": "markdown",
      "source": [
        "#**01. Load the Dataset**"
      ],
      "metadata": {
        "id": "TMGSHI3TrWkW"
      }
    },
    {
      "cell_type": "markdown",
      "source": [
        "i. Connect Drive Storage with Colab\n",
        "\n",
        "Drive link: https://drive.google.com/drive/folders/1flLIuTxZyQoBZqtD35ISzf8mZVcVKQBS?usp=drive_link"
      ],
      "metadata": {
        "id": "0JJU-T_pr5Q3"
      }
    },
    {
      "cell_type": "code",
      "metadata": {
        "colab": {
          "base_uri": "https://localhost:8080/"
        },
        "id": "13563b53",
        "outputId": "cf7d46be-686e-40e3-bbc9-f6d2cd4cfb1f"
      },
      "source": [
        "from google.colab import drive\n",
        "drive.mount('/content/drive')"
      ],
      "execution_count": 1,
      "outputs": [
        {
          "output_type": "stream",
          "name": "stdout",
          "text": [
            "Mounted at /content/drive\n"
          ]
        }
      ]
    },
    {
      "cell_type": "markdown",
      "source": [
        "ii. Load the data from \"/content/drive/MyDrive/Exo-Hunter/exoplanets_vs_false_FIXED.csv\" into a pandas DataFrame."
      ],
      "metadata": {
        "id": "T4mF2Xl9sHKS"
      }
    },
    {
      "cell_type": "code",
      "metadata": {
        "colab": {
          "base_uri": "https://localhost:8080/",
          "height": 536
        },
        "id": "50693947",
        "outputId": "aa73febc-9b14-40b3-cd25-cfe906edb09e"
      },
      "source": [
        "from os import linesep\n",
        "import pandas as pd\n",
        "\n",
        "file_path = '/content/drive/MyDrive/Exo-Hunter/exoplanets_vs_false_FIXED.csv'\n",
        "try:\n",
        "    df = pd.read_csv(file_path)\n",
        "    display(df.head())\n",
        "    print(\"\\n\")\n",
        "    display(df.info())\n",
        "except FileNotFoundError:\n",
        "    print(f\"Error: File not found at {file_path}. Please check the file path and try again.\")"
      ],
      "execution_count": 2,
      "outputs": [
        {
          "output_type": "display_data",
          "data": {
            "text/plain": [
              "   mission  object_name disposition      period  planet_radius    star_temp  \\\n",
              "0  ARCHIVE  PLANET_1734   CONFIRMED    3.943328       7.968167  5314.834165   \n",
              "1   Kepler    K00711.03   CONFIRMED  124.524522       2.690000  5497.000000   \n",
              "2   Kepler    K01501.01   CONFIRMED    2.617028       1.570000  4831.000000   \n",
              "3  ARCHIVE   PLANET_168   CONFIRMED  300.262512      13.237900  9170.291947   \n",
              "4  ARCHIVE  PLANET_1768   CONFIRMED  325.259434      13.519703  5557.471709   \n",
              "\n",
              "   star_radius  star_mass discovery_facility  \n",
              "0     0.969259   0.246349            UNKNOWN  \n",
              "1     1.046000   0.988000                NaN  \n",
              "2     0.724000   0.706000                NaN  \n",
              "3     3.498023   2.619901            UNKNOWN  \n",
              "4     3.712298   1.821366            UNKNOWN  "
            ],
            "text/html": [
              "\n",
              "  <div id=\"df-8a9bdcbd-b7fa-49a1-907d-cf543c100169\" class=\"colab-df-container\">\n",
              "    <div>\n",
              "<style scoped>\n",
              "    .dataframe tbody tr th:only-of-type {\n",
              "        vertical-align: middle;\n",
              "    }\n",
              "\n",
              "    .dataframe tbody tr th {\n",
              "        vertical-align: top;\n",
              "    }\n",
              "\n",
              "    .dataframe thead th {\n",
              "        text-align: right;\n",
              "    }\n",
              "</style>\n",
              "<table border=\"1\" class=\"dataframe\">\n",
              "  <thead>\n",
              "    <tr style=\"text-align: right;\">\n",
              "      <th></th>\n",
              "      <th>mission</th>\n",
              "      <th>object_name</th>\n",
              "      <th>disposition</th>\n",
              "      <th>period</th>\n",
              "      <th>planet_radius</th>\n",
              "      <th>star_temp</th>\n",
              "      <th>star_radius</th>\n",
              "      <th>star_mass</th>\n",
              "      <th>discovery_facility</th>\n",
              "    </tr>\n",
              "  </thead>\n",
              "  <tbody>\n",
              "    <tr>\n",
              "      <th>0</th>\n",
              "      <td>ARCHIVE</td>\n",
              "      <td>PLANET_1734</td>\n",
              "      <td>CONFIRMED</td>\n",
              "      <td>3.943328</td>\n",
              "      <td>7.968167</td>\n",
              "      <td>5314.834165</td>\n",
              "      <td>0.969259</td>\n",
              "      <td>0.246349</td>\n",
              "      <td>UNKNOWN</td>\n",
              "    </tr>\n",
              "    <tr>\n",
              "      <th>1</th>\n",
              "      <td>Kepler</td>\n",
              "      <td>K00711.03</td>\n",
              "      <td>CONFIRMED</td>\n",
              "      <td>124.524522</td>\n",
              "      <td>2.690000</td>\n",
              "      <td>5497.000000</td>\n",
              "      <td>1.046000</td>\n",
              "      <td>0.988000</td>\n",
              "      <td>NaN</td>\n",
              "    </tr>\n",
              "    <tr>\n",
              "      <th>2</th>\n",
              "      <td>Kepler</td>\n",
              "      <td>K01501.01</td>\n",
              "      <td>CONFIRMED</td>\n",
              "      <td>2.617028</td>\n",
              "      <td>1.570000</td>\n",
              "      <td>4831.000000</td>\n",
              "      <td>0.724000</td>\n",
              "      <td>0.706000</td>\n",
              "      <td>NaN</td>\n",
              "    </tr>\n",
              "    <tr>\n",
              "      <th>3</th>\n",
              "      <td>ARCHIVE</td>\n",
              "      <td>PLANET_168</td>\n",
              "      <td>CONFIRMED</td>\n",
              "      <td>300.262512</td>\n",
              "      <td>13.237900</td>\n",
              "      <td>9170.291947</td>\n",
              "      <td>3.498023</td>\n",
              "      <td>2.619901</td>\n",
              "      <td>UNKNOWN</td>\n",
              "    </tr>\n",
              "    <tr>\n",
              "      <th>4</th>\n",
              "      <td>ARCHIVE</td>\n",
              "      <td>PLANET_1768</td>\n",
              "      <td>CONFIRMED</td>\n",
              "      <td>325.259434</td>\n",
              "      <td>13.519703</td>\n",
              "      <td>5557.471709</td>\n",
              "      <td>3.712298</td>\n",
              "      <td>1.821366</td>\n",
              "      <td>UNKNOWN</td>\n",
              "    </tr>\n",
              "  </tbody>\n",
              "</table>\n",
              "</div>\n",
              "    <div class=\"colab-df-buttons\">\n",
              "\n",
              "  <div class=\"colab-df-container\">\n",
              "    <button class=\"colab-df-convert\" onclick=\"convertToInteractive('df-8a9bdcbd-b7fa-49a1-907d-cf543c100169')\"\n",
              "            title=\"Convert this dataframe to an interactive table.\"\n",
              "            style=\"display:none;\">\n",
              "\n",
              "  <svg xmlns=\"http://www.w3.org/2000/svg\" height=\"24px\" viewBox=\"0 -960 960 960\">\n",
              "    <path d=\"M120-120v-720h720v720H120Zm60-500h600v-160H180v160Zm220 220h160v-160H400v160Zm0 220h160v-160H400v160ZM180-400h160v-160H180v160Zm440 0h160v-160H620v160ZM180-180h160v-160H180v160Zm440 0h160v-160H620v160Z\"/>\n",
              "  </svg>\n",
              "    </button>\n",
              "\n",
              "  <style>\n",
              "    .colab-df-container {\n",
              "      display:flex;\n",
              "      gap: 12px;\n",
              "    }\n",
              "\n",
              "    .colab-df-convert {\n",
              "      background-color: #E8F0FE;\n",
              "      border: none;\n",
              "      border-radius: 50%;\n",
              "      cursor: pointer;\n",
              "      display: none;\n",
              "      fill: #1967D2;\n",
              "      height: 32px;\n",
              "      padding: 0 0 0 0;\n",
              "      width: 32px;\n",
              "    }\n",
              "\n",
              "    .colab-df-convert:hover {\n",
              "      background-color: #E2EBFA;\n",
              "      box-shadow: 0px 1px 2px rgba(60, 64, 67, 0.3), 0px 1px 3px 1px rgba(60, 64, 67, 0.15);\n",
              "      fill: #174EA6;\n",
              "    }\n",
              "\n",
              "    .colab-df-buttons div {\n",
              "      margin-bottom: 4px;\n",
              "    }\n",
              "\n",
              "    [theme=dark] .colab-df-convert {\n",
              "      background-color: #3B4455;\n",
              "      fill: #D2E3FC;\n",
              "    }\n",
              "\n",
              "    [theme=dark] .colab-df-convert:hover {\n",
              "      background-color: #434B5C;\n",
              "      box-shadow: 0px 1px 3px 1px rgba(0, 0, 0, 0.15);\n",
              "      filter: drop-shadow(0px 1px 2px rgba(0, 0, 0, 0.3));\n",
              "      fill: #FFFFFF;\n",
              "    }\n",
              "  </style>\n",
              "\n",
              "    <script>\n",
              "      const buttonEl =\n",
              "        document.querySelector('#df-8a9bdcbd-b7fa-49a1-907d-cf543c100169 button.colab-df-convert');\n",
              "      buttonEl.style.display =\n",
              "        google.colab.kernel.accessAllowed ? 'block' : 'none';\n",
              "\n",
              "      async function convertToInteractive(key) {\n",
              "        const element = document.querySelector('#df-8a9bdcbd-b7fa-49a1-907d-cf543c100169');\n",
              "        const dataTable =\n",
              "          await google.colab.kernel.invokeFunction('convertToInteractive',\n",
              "                                                    [key], {});\n",
              "        if (!dataTable) return;\n",
              "\n",
              "        const docLinkHtml = 'Like what you see? Visit the ' +\n",
              "          '<a target=\"_blank\" href=https://colab.research.google.com/notebooks/data_table.ipynb>data table notebook</a>'\n",
              "          + ' to learn more about interactive tables.';\n",
              "        element.innerHTML = '';\n",
              "        dataTable['output_type'] = 'display_data';\n",
              "        await google.colab.output.renderOutput(dataTable, element);\n",
              "        const docLink = document.createElement('div');\n",
              "        docLink.innerHTML = docLinkHtml;\n",
              "        element.appendChild(docLink);\n",
              "      }\n",
              "    </script>\n",
              "  </div>\n",
              "\n",
              "\n",
              "    <div id=\"df-58f0166f-7866-49db-b145-0fbfa5f22369\">\n",
              "      <button class=\"colab-df-quickchart\" onclick=\"quickchart('df-58f0166f-7866-49db-b145-0fbfa5f22369')\"\n",
              "                title=\"Suggest charts\"\n",
              "                style=\"display:none;\">\n",
              "\n",
              "<svg xmlns=\"http://www.w3.org/2000/svg\" height=\"24px\"viewBox=\"0 0 24 24\"\n",
              "     width=\"24px\">\n",
              "    <g>\n",
              "        <path d=\"M19 3H5c-1.1 0-2 .9-2 2v14c0 1.1.9 2 2 2h14c1.1 0 2-.9 2-2V5c0-1.1-.9-2-2-2zM9 17H7v-7h2v7zm4 0h-2V7h2v10zm4 0h-2v-4h2v4z\"/>\n",
              "    </g>\n",
              "</svg>\n",
              "      </button>\n",
              "\n",
              "<style>\n",
              "  .colab-df-quickchart {\n",
              "      --bg-color: #E8F0FE;\n",
              "      --fill-color: #1967D2;\n",
              "      --hover-bg-color: #E2EBFA;\n",
              "      --hover-fill-color: #174EA6;\n",
              "      --disabled-fill-color: #AAA;\n",
              "      --disabled-bg-color: #DDD;\n",
              "  }\n",
              "\n",
              "  [theme=dark] .colab-df-quickchart {\n",
              "      --bg-color: #3B4455;\n",
              "      --fill-color: #D2E3FC;\n",
              "      --hover-bg-color: #434B5C;\n",
              "      --hover-fill-color: #FFFFFF;\n",
              "      --disabled-bg-color: #3B4455;\n",
              "      --disabled-fill-color: #666;\n",
              "  }\n",
              "\n",
              "  .colab-df-quickchart {\n",
              "    background-color: var(--bg-color);\n",
              "    border: none;\n",
              "    border-radius: 50%;\n",
              "    cursor: pointer;\n",
              "    display: none;\n",
              "    fill: var(--fill-color);\n",
              "    height: 32px;\n",
              "    padding: 0;\n",
              "    width: 32px;\n",
              "  }\n",
              "\n",
              "  .colab-df-quickchart:hover {\n",
              "    background-color: var(--hover-bg-color);\n",
              "    box-shadow: 0 1px 2px rgba(60, 64, 67, 0.3), 0 1px 3px 1px rgba(60, 64, 67, 0.15);\n",
              "    fill: var(--button-hover-fill-color);\n",
              "  }\n",
              "\n",
              "  .colab-df-quickchart-complete:disabled,\n",
              "  .colab-df-quickchart-complete:disabled:hover {\n",
              "    background-color: var(--disabled-bg-color);\n",
              "    fill: var(--disabled-fill-color);\n",
              "    box-shadow: none;\n",
              "  }\n",
              "\n",
              "  .colab-df-spinner {\n",
              "    border: 2px solid var(--fill-color);\n",
              "    border-color: transparent;\n",
              "    border-bottom-color: var(--fill-color);\n",
              "    animation:\n",
              "      spin 1s steps(1) infinite;\n",
              "  }\n",
              "\n",
              "  @keyframes spin {\n",
              "    0% {\n",
              "      border-color: transparent;\n",
              "      border-bottom-color: var(--fill-color);\n",
              "      border-left-color: var(--fill-color);\n",
              "    }\n",
              "    20% {\n",
              "      border-color: transparent;\n",
              "      border-left-color: var(--fill-color);\n",
              "      border-top-color: var(--fill-color);\n",
              "    }\n",
              "    30% {\n",
              "      border-color: transparent;\n",
              "      border-left-color: var(--fill-color);\n",
              "      border-top-color: var(--fill-color);\n",
              "      border-right-color: var(--fill-color);\n",
              "    }\n",
              "    40% {\n",
              "      border-color: transparent;\n",
              "      border-right-color: var(--fill-color);\n",
              "      border-top-color: var(--fill-color);\n",
              "    }\n",
              "    60% {\n",
              "      border-color: transparent;\n",
              "      border-right-color: var(--fill-color);\n",
              "    }\n",
              "    80% {\n",
              "      border-color: transparent;\n",
              "      border-right-color: var(--fill-color);\n",
              "      border-bottom-color: var(--fill-color);\n",
              "    }\n",
              "    90% {\n",
              "      border-color: transparent;\n",
              "      border-bottom-color: var(--fill-color);\n",
              "    }\n",
              "  }\n",
              "</style>\n",
              "\n",
              "      <script>\n",
              "        async function quickchart(key) {\n",
              "          const quickchartButtonEl =\n",
              "            document.querySelector('#' + key + ' button');\n",
              "          quickchartButtonEl.disabled = true;  // To prevent multiple clicks.\n",
              "          quickchartButtonEl.classList.add('colab-df-spinner');\n",
              "          try {\n",
              "            const charts = await google.colab.kernel.invokeFunction(\n",
              "                'suggestCharts', [key], {});\n",
              "          } catch (error) {\n",
              "            console.error('Error during call to suggestCharts:', error);\n",
              "          }\n",
              "          quickchartButtonEl.classList.remove('colab-df-spinner');\n",
              "          quickchartButtonEl.classList.add('colab-df-quickchart-complete');\n",
              "        }\n",
              "        (() => {\n",
              "          let quickchartButtonEl =\n",
              "            document.querySelector('#df-58f0166f-7866-49db-b145-0fbfa5f22369 button');\n",
              "          quickchartButtonEl.style.display =\n",
              "            google.colab.kernel.accessAllowed ? 'block' : 'none';\n",
              "        })();\n",
              "      </script>\n",
              "    </div>\n",
              "\n",
              "    </div>\n",
              "  </div>\n"
            ],
            "application/vnd.google.colaboratory.intrinsic+json": {
              "type": "dataframe",
              "summary": "{\n  \"name\": \"    print(f\\\"Error: File not found at {file_path}\",\n  \"rows\": 5,\n  \"fields\": [\n    {\n      \"column\": \"mission\",\n      \"properties\": {\n        \"dtype\": \"category\",\n        \"num_unique_values\": 2,\n        \"samples\": [\n          \"Kepler\",\n          \"ARCHIVE\"\n        ],\n        \"semantic_type\": \"\",\n        \"description\": \"\"\n      }\n    },\n    {\n      \"column\": \"object_name\",\n      \"properties\": {\n        \"dtype\": \"string\",\n        \"num_unique_values\": 5,\n        \"samples\": [\n          \"K00711.03\",\n          \"PLANET_1768\"\n        ],\n        \"semantic_type\": \"\",\n        \"description\": \"\"\n      }\n    },\n    {\n      \"column\": \"disposition\",\n      \"properties\": {\n        \"dtype\": \"category\",\n        \"num_unique_values\": 1,\n        \"samples\": [\n          \"CONFIRMED\"\n        ],\n        \"semantic_type\": \"\",\n        \"description\": \"\"\n      }\n    },\n    {\n      \"column\": \"period\",\n      \"properties\": {\n        \"dtype\": \"number\",\n        \"std\": 155.71548856193158,\n        \"min\": 2.617028373,\n        \"max\": 325.25943411412806,\n        \"num_unique_values\": 5,\n        \"samples\": [\n          124.5245224\n        ],\n        \"semantic_type\": \"\",\n        \"description\": \"\"\n      }\n    },\n    {\n      \"column\": \"planet_radius\",\n      \"properties\": {\n        \"dtype\": \"number\",\n        \"std\": 5.640013265729812,\n        \"min\": 1.57,\n        \"max\": 13.51970315625548,\n        \"num_unique_values\": 5,\n        \"samples\": [\n          2.69\n        ],\n        \"semantic_type\": \"\",\n        \"description\": \"\"\n      }\n    },\n    {\n      \"column\": \"star_temp\",\n      \"properties\": {\n        \"dtype\": \"number\",\n        \"std\": 1754.1476556805417,\n        \"min\": 4831.0,\n        \"max\": 9170.291947122056,\n        \"num_unique_values\": 5,\n        \"samples\": [\n          5497.0\n        ],\n        \"semantic_type\": \"\",\n        \"description\": \"\"\n      }\n    },\n    {\n      \"column\": \"star_radius\",\n      \"properties\": {\n        \"dtype\": \"number\",\n        \"std\": 1.4812368299993341,\n        \"min\": 0.724,\n        \"max\": 3.712298286681909,\n        \"num_unique_values\": 5,\n        \"samples\": [\n          1.046\n        ],\n        \"semantic_type\": \"\",\n        \"description\": \"\"\n      }\n    },\n    {\n      \"column\": \"star_mass\",\n      \"properties\": {\n        \"dtype\": \"number\",\n        \"std\": 0.944923104400056,\n        \"min\": 0.2463494874178497,\n        \"max\": 2.619901287510543,\n        \"num_unique_values\": 5,\n        \"samples\": [\n          0.988\n        ],\n        \"semantic_type\": \"\",\n        \"description\": \"\"\n      }\n    },\n    {\n      \"column\": \"discovery_facility\",\n      \"properties\": {\n        \"dtype\": \"category\",\n        \"num_unique_values\": 1,\n        \"samples\": [\n          \"UNKNOWN\"\n        ],\n        \"semantic_type\": \"\",\n        \"description\": \"\"\n      }\n    }\n  ]\n}"
            }
          },
          "metadata": {}
        },
        {
          "output_type": "stream",
          "name": "stdout",
          "text": [
            "\n",
            "\n",
            "<class 'pandas.core.frame.DataFrame'>\n",
            "RangeIndex: 16025 entries, 0 to 16024\n",
            "Data columns (total 9 columns):\n",
            " #   Column              Non-Null Count  Dtype  \n",
            "---  ------              --------------  -----  \n",
            " 0   mission             16025 non-null  object \n",
            " 1   object_name         16025 non-null  object \n",
            " 2   disposition         16025 non-null  object \n",
            " 3   period              15992 non-null  float64\n",
            " 4   planet_radius       15647 non-null  float64\n",
            " 5   star_temp           15735 non-null  float64\n",
            " 6   star_radius         15646 non-null  float64\n",
            " 7   star_mass           13242 non-null  float64\n",
            " 8   discovery_facility  6013 non-null   object \n",
            "dtypes: float64(5), object(4)\n",
            "memory usage: 1.1+ MB\n"
          ]
        },
        {
          "output_type": "display_data",
          "data": {
            "text/plain": [
              "None"
            ]
          },
          "metadata": {}
        }
      ]
    },
    {
      "cell_type": "markdown",
      "source": [
        "# **02. Preprocessing the Dataset**\n",
        "The dataset has been loaded and inspected. The next step is to preprocess this data by selecting relevant features, handling missing values, and scaling the numerical features, similar to the preprocessing done for the previous dataset. This includes identifying numerical and categorical features, imputing missing values, and applying scaling and one-hot encoding where appropriate, then splitting the data into training and validation sets."
      ],
      "metadata": {
        "id": "PiqMyak1tuoW"
      }
    },
    {
      "cell_type": "markdown",
      "source": [],
      "metadata": {
        "id": "h1qYI1QZsjod"
      }
    },
    {
      "cell_type": "code",
      "source": [
        "from sklearn.impute import SimpleImputer\n",
        "from sklearn.preprocessing import StandardScaler, OneHotEncoder\n",
        "from sklearn.compose import ColumnTransformer\n",
        "from sklearn.pipeline import Pipeline\n",
        "from sklearn.model_selection import train_test_split\n",
        "\n",
        "# Define features and target columns\n",
        "features = ['period', 'planet_radius', 'star_temp', 'star_radius', 'star_mass', 'discovery_facility']\n",
        "target = 'disposition'\n",
        "\n",
        "# Check if the target column exists in the DataFrame\n",
        "if not all(col in df.columns for col in features+ [target]):\n",
        "  missing = [col for col in features+ [target] if col not in df.columns]\n",
        "  raise ValueError(f\"Fixed CSV must contain the following columns: {missing}\")\n",
        "\n",
        "# Filter for relevant dispositions and map to numerical labels\n",
        "df_filtered = df[df[target].isin(['CONFIRMED', 'FALSE POSITIVE'])]\n",
        "df_filtered['label'] = df_filtered[target].apply(lambda x: 1 if x == 'CONFIRMED' else 0)\n",
        "\n",
        "# Separate features and target\n",
        "X = df_filtered[features]\n",
        "y = df_filtered['label']\n",
        "\n",
        "# Identify numerical and categorical features\n",
        "numerical_features = ['period', 'planet_radius', 'star_temp', 'star_radius', 'star_mass']\n",
        "categorical_features = ['discovery_facility']\n",
        "\n",
        "# Create preprocessing pipelines for numerical and categorical features\n",
        "numerical_transformer = Pipeline(steps=[\n",
        "    ('imputer', SimpleImputer(strategy='median')), # Use median imputation for numerical features\n",
        "    ('scaler', StandardScaler()) # Scale numerical features\n",
        "])\n",
        "\n",
        "categorical_transformer = Pipeline(steps=[\n",
        "    ('imputer', SimpleImputer(strategy='constant', fill_value='missing')), # Use constant imputation for categorical features\n",
        "    ('onehot', OneHotEncoder(handle_unknown='ignore')) # One-hot encode categorical features\n",
        "])\n",
        "\n",
        "# Create a column transformer to apply different transformations to different columns\n",
        "preprocessor = ColumnTransformer(\n",
        "    transformers=[\n",
        "        ('num', numerical_transformer, numerical_features),\n",
        "        ('cat', categorical_transformer, categorical_features)\n",
        "    ],\n",
        "    remainder='passthrough' # Keep the target column unchanged\n",
        ")\n",
        "\n",
        "# Apply preprocessing to the dataset\n",
        "X_preprocessed = preprocessor.fit_transform(X)\n",
        "\n",
        "print(f\"X_preprocessed shape: {X_preprocessed.shape}, y_preprocessed shape: {y.shape}\")\n",
        "print(f\"Processed data shape: {X_preprocessed.shape}\")\n",
        "\n",
        "# Split the dataset into training and testing sets\n",
        "X_train, X_val, y_train, y_val = train_test_split(X_preprocessed, y, test_size=0.2, stratify=y, random_state=42)\n",
        "\n",
        "print(f\"Training data shape: {X_train.shape}, y_train shape: {y_train.shape}\")\n",
        "print(f\"Valiation data shape: {X_val.shape}, y_test shape: {y_val.shape}\")"
      ],
      "metadata": {
        "colab": {
          "base_uri": "https://localhost:8080/"
        },
        "id": "arRVI8L4oiTM",
        "outputId": "5b56f0bc-93ce-405b-f0f2-1e0d07af33af"
      },
      "execution_count": 3,
      "outputs": [
        {
          "output_type": "stream",
          "name": "stdout",
          "text": [
            "X_preprocessed shape: (16025, 7), y_preprocessed shape: (16025,)\n",
            "Processed data shape: (16025, 7)\n",
            "Training data shape: (12820, 7), y_train shape: (12820,)\n",
            "Valiation data shape: (3205, 7), y_test shape: (3205,)\n"
          ]
        }
      ]
    },
    {
      "cell_type": "markdown",
      "source": [
        "# **03. Model Creation and Training**\n",
        "The fixed dataset has been preprocessed and split into training and validation sets. The next step is to define and train the model using the preprocessed training and validation data from this dataset. We will use two model for better comparison:\n",
        "\n",
        "*   Basic Tabular **Keras** Model\n",
        "*   **LightGBM**\n",
        "\n",
        "---\n",
        "\n",
        "# Keras Model\n"
      ],
      "metadata": {
        "id": "ZBBSlIO10w9o"
      }
    },
    {
      "cell_type": "markdown",
      "source": [
        "\n"
      ],
      "metadata": {
        "id": "rhmxt1D01tVV"
      }
    },
    {
      "cell_type": "code",
      "source": [
        "from tensorflow.keras import layers, models\n",
        "\n",
        "def make_tabular_model(input_dim):\n",
        "    model = models.Sequential([\n",
        "        layers.Input(shape=(input_dim,)),\n",
        "        layers.Dense(64, activation='relu'),\n",
        "        layers.Dense(32, activation='relu'),\n",
        "        layers.Dense(1, activation='sigmoid')\n",
        "    ])\n",
        "    model.compile(optimizer='adam', loss='binary_crossentropy', metrics=['accuracy'])\n",
        "    return model\n",
        "\n",
        "# Create the Keras model with new input dimension\n",
        "input_dim = X_train.shape[1]\n",
        "basic_keras_model = make_tabular_model(input_dim)\n",
        "\n",
        "# Train the Keras model\n",
        "print(\"Training Basic Keras Model with the dataset...\")\n",
        "history_keras_model = basic_keras_model.fit(X_train, y_train, validation_data=(X_val, y_val), epochs=70, batch_size=32, verbose = 1)\n",
        "print(\"Training Done!\")"
      ],
      "metadata": {
        "colab": {
          "base_uri": "https://localhost:8080/"
        },
        "id": "xHrTwkjr6PY0",
        "outputId": "e17e4f46-a6dc-4fed-9119-c1d4dc1366b6"
      },
      "execution_count": null,
      "outputs": [
        {
          "output_type": "stream",
          "name": "stdout",
          "text": [
            "Training Basic Keras Model with the dataset...\n",
            "Epoch 1/70\n",
            "\u001b[1m401/401\u001b[0m \u001b[32m━━━━━━━━━━━━━━━━━━━━\u001b[0m\u001b[37m\u001b[0m \u001b[1m2s\u001b[0m 3ms/step - accuracy: 0.7351 - loss: 0.4904 - val_accuracy: 0.7894 - val_loss: 0.3814\n",
            "Epoch 2/70\n",
            "\u001b[1m401/401\u001b[0m \u001b[32m━━━━━━━━━━━━━━━━━━━━\u001b[0m\u001b[37m\u001b[0m \u001b[1m1s\u001b[0m 2ms/step - accuracy: 0.7984 - loss: 0.3642 - val_accuracy: 0.7869 - val_loss: 0.3752\n",
            "Epoch 3/70\n",
            "\u001b[1m401/401\u001b[0m \u001b[32m━━━━━━━━━━━━━━━━━━━━\u001b[0m\u001b[37m\u001b[0m \u001b[1m1s\u001b[0m 2ms/step - accuracy: 0.8127 - loss: 0.3548 - val_accuracy: 0.8240 - val_loss: 0.3561\n",
            "Epoch 4/70\n",
            "\u001b[1m401/401\u001b[0m \u001b[32m━━━━━━━━━━━━━━━━━━━━\u001b[0m\u001b[37m\u001b[0m \u001b[1m1s\u001b[0m 3ms/step - accuracy: 0.8244 - loss: 0.3439 - val_accuracy: 0.8197 - val_loss: 0.3532\n",
            "Epoch 5/70\n",
            "\u001b[1m401/401\u001b[0m \u001b[32m━━━━━━━━━━━━━━━━━━━━\u001b[0m\u001b[37m\u001b[0m \u001b[1m2s\u001b[0m 4ms/step - accuracy: 0.8300 - loss: 0.3321 - val_accuracy: 0.8349 - val_loss: 0.3452\n",
            "Epoch 6/70\n",
            "\u001b[1m401/401\u001b[0m \u001b[32m━━━━━━━━━━━━━━━━━━━━\u001b[0m\u001b[37m\u001b[0m \u001b[1m2s\u001b[0m 4ms/step - accuracy: 0.8301 - loss: 0.3326 - val_accuracy: 0.8368 - val_loss: 0.3380\n",
            "Epoch 7/70\n",
            "\u001b[1m401/401\u001b[0m \u001b[32m━━━━━━━━━━━━━━━━━━━━\u001b[0m\u001b[37m\u001b[0m \u001b[1m2s\u001b[0m 2ms/step - accuracy: 0.8448 - loss: 0.3153 - val_accuracy: 0.8402 - val_loss: 0.3238\n",
            "Epoch 8/70\n",
            "\u001b[1m401/401\u001b[0m \u001b[32m━━━━━━━━━━━━━━━━━━━━\u001b[0m\u001b[37m\u001b[0m \u001b[1m1s\u001b[0m 2ms/step - accuracy: 0.8430 - loss: 0.3137 - val_accuracy: 0.8452 - val_loss: 0.3204\n",
            "Epoch 9/70\n",
            "\u001b[1m401/401\u001b[0m \u001b[32m━━━━━━━━━━━━━━━━━━━━\u001b[0m\u001b[37m\u001b[0m \u001b[1m1s\u001b[0m 2ms/step - accuracy: 0.8402 - loss: 0.3122 - val_accuracy: 0.8512 - val_loss: 0.3136\n",
            "Epoch 10/70\n",
            "\u001b[1m401/401\u001b[0m \u001b[32m━━━━━━━━━━━━━━━━━━━━\u001b[0m\u001b[37m\u001b[0m \u001b[1m1s\u001b[0m 2ms/step - accuracy: 0.8424 - loss: 0.3092 - val_accuracy: 0.8368 - val_loss: 0.3247\n",
            "Epoch 11/70\n",
            "\u001b[1m401/401\u001b[0m \u001b[32m━━━━━━━━━━━━━━━━━━━━\u001b[0m\u001b[37m\u001b[0m \u001b[1m1s\u001b[0m 2ms/step - accuracy: 0.8504 - loss: 0.3007 - val_accuracy: 0.8515 - val_loss: 0.3049\n",
            "Epoch 12/70\n",
            "\u001b[1m401/401\u001b[0m \u001b[32m━━━━━━━━━━━━━━━━━━━━\u001b[0m\u001b[37m\u001b[0m \u001b[1m2s\u001b[0m 4ms/step - accuracy: 0.8557 - loss: 0.2937 - val_accuracy: 0.8443 - val_loss: 0.3123\n",
            "Epoch 13/70\n",
            "\u001b[1m401/401\u001b[0m \u001b[32m━━━━━━━━━━━━━━━━━━━━\u001b[0m\u001b[37m\u001b[0m \u001b[1m1s\u001b[0m 2ms/step - accuracy: 0.8519 - loss: 0.2962 - val_accuracy: 0.8546 - val_loss: 0.3057\n",
            "Epoch 14/70\n",
            "\u001b[1m401/401\u001b[0m \u001b[32m━━━━━━━━━━━━━━━━━━━━\u001b[0m\u001b[37m\u001b[0m \u001b[1m1s\u001b[0m 2ms/step - accuracy: 0.8511 - loss: 0.2922 - val_accuracy: 0.8568 - val_loss: 0.3021\n",
            "Epoch 15/70\n",
            "\u001b[1m401/401\u001b[0m \u001b[32m━━━━━━━━━━━━━━━━━━━━\u001b[0m\u001b[37m\u001b[0m \u001b[1m1s\u001b[0m 2ms/step - accuracy: 0.8522 - loss: 0.2958 - val_accuracy: 0.8502 - val_loss: 0.3107\n",
            "Epoch 16/70\n",
            "\u001b[1m401/401\u001b[0m \u001b[32m━━━━━━━━━━━━━━━━━━━━\u001b[0m\u001b[37m\u001b[0m \u001b[1m1s\u001b[0m 3ms/step - accuracy: 0.8564 - loss: 0.2863 - val_accuracy: 0.8465 - val_loss: 0.3088\n",
            "Epoch 17/70\n",
            "\u001b[1m401/401\u001b[0m \u001b[32m━━━━━━━━━━━━━━━━━━━━\u001b[0m\u001b[37m\u001b[0m \u001b[1m2s\u001b[0m 4ms/step - accuracy: 0.8511 - loss: 0.2916 - val_accuracy: 0.8568 - val_loss: 0.3001\n",
            "Epoch 18/70\n",
            "\u001b[1m401/401\u001b[0m \u001b[32m━━━━━━━━━━━━━━━━━━━━\u001b[0m\u001b[37m\u001b[0m \u001b[1m2s\u001b[0m 4ms/step - accuracy: 0.8545 - loss: 0.2890 - val_accuracy: 0.8480 - val_loss: 0.3035\n",
            "Epoch 19/70\n",
            "\u001b[1m401/401\u001b[0m \u001b[32m━━━━━━━━━━━━━━━━━━━━\u001b[0m\u001b[37m\u001b[0m \u001b[1m2s\u001b[0m 5ms/step - accuracy: 0.8607 - loss: 0.2829 - val_accuracy: 0.8468 - val_loss: 0.3075\n",
            "Epoch 20/70\n",
            "\u001b[1m401/401\u001b[0m \u001b[32m━━━━━━━━━━━━━━━━━━━━\u001b[0m\u001b[37m\u001b[0m \u001b[1m1s\u001b[0m 3ms/step - accuracy: 0.8587 - loss: 0.2854 - val_accuracy: 0.8593 - val_loss: 0.2965\n",
            "Epoch 21/70\n",
            "\u001b[1m401/401\u001b[0m \u001b[32m━━━━━━━━━━━━━━━━━━━━\u001b[0m\u001b[37m\u001b[0m \u001b[1m1s\u001b[0m 2ms/step - accuracy: 0.8563 - loss: 0.2836 - val_accuracy: 0.8515 - val_loss: 0.2993\n",
            "Epoch 22/70\n",
            "\u001b[1m401/401\u001b[0m \u001b[32m━━━━━━━━━━━━━━━━━━━━\u001b[0m\u001b[37m\u001b[0m \u001b[1m1s\u001b[0m 2ms/step - accuracy: 0.8610 - loss: 0.2816 - val_accuracy: 0.8568 - val_loss: 0.2977\n",
            "Epoch 23/70\n",
            "\u001b[1m401/401\u001b[0m \u001b[32m━━━━━━━━━━━━━━━━━━━━\u001b[0m\u001b[37m\u001b[0m \u001b[1m1s\u001b[0m 2ms/step - accuracy: 0.8616 - loss: 0.2804 - val_accuracy: 0.8559 - val_loss: 0.2955\n",
            "Epoch 24/70\n",
            "\u001b[1m401/401\u001b[0m \u001b[32m━━━━━━━━━━━━━━━━━━━━\u001b[0m\u001b[37m\u001b[0m \u001b[1m1s\u001b[0m 2ms/step - accuracy: 0.8619 - loss: 0.2783 - val_accuracy: 0.8652 - val_loss: 0.2928\n",
            "Epoch 25/70\n",
            "\u001b[1m401/401\u001b[0m \u001b[32m━━━━━━━━━━━━━━━━━━━━\u001b[0m\u001b[37m\u001b[0m \u001b[1m1s\u001b[0m 2ms/step - accuracy: 0.8609 - loss: 0.2792 - val_accuracy: 0.8521 - val_loss: 0.2970\n",
            "Epoch 26/70\n",
            "\u001b[1m401/401\u001b[0m \u001b[32m━━━━━━━━━━━━━━━━━━━━\u001b[0m\u001b[37m\u001b[0m \u001b[1m1s\u001b[0m 2ms/step - accuracy: 0.8562 - loss: 0.2853 - val_accuracy: 0.8593 - val_loss: 0.2970\n",
            "Epoch 27/70\n",
            "\u001b[1m401/401\u001b[0m \u001b[32m━━━━━━━━━━━━━━━━━━━━\u001b[0m\u001b[37m\u001b[0m \u001b[1m1s\u001b[0m 2ms/step - accuracy: 0.8510 - loss: 0.2906 - val_accuracy: 0.8602 - val_loss: 0.2928\n",
            "Epoch 28/70\n",
            "\u001b[1m401/401\u001b[0m \u001b[32m━━━━━━━━━━━━━━━━━━━━\u001b[0m\u001b[37m\u001b[0m \u001b[1m1s\u001b[0m 3ms/step - accuracy: 0.8688 - loss: 0.2766 - val_accuracy: 0.8593 - val_loss: 0.2888\n",
            "Epoch 29/70\n",
            "\u001b[1m401/401\u001b[0m \u001b[32m━━━━━━━━━━━━━━━━━━━━\u001b[0m\u001b[37m\u001b[0m \u001b[1m2s\u001b[0m 4ms/step - accuracy: 0.8612 - loss: 0.2758 - val_accuracy: 0.8474 - val_loss: 0.3100\n",
            "Epoch 30/70\n",
            "\u001b[1m401/401\u001b[0m \u001b[32m━━━━━━━━━━━━━━━━━━━━\u001b[0m\u001b[37m\u001b[0m \u001b[1m2s\u001b[0m 3ms/step - accuracy: 0.8707 - loss: 0.2711 - val_accuracy: 0.8559 - val_loss: 0.2879\n",
            "Epoch 31/70\n",
            "\u001b[1m401/401\u001b[0m \u001b[32m━━━━━━━━━━━━━━━━━━━━\u001b[0m\u001b[37m\u001b[0m \u001b[1m1s\u001b[0m 2ms/step - accuracy: 0.8614 - loss: 0.2749 - val_accuracy: 0.8618 - val_loss: 0.2885\n",
            "Epoch 32/70\n",
            "\u001b[1m401/401\u001b[0m \u001b[32m━━━━━━━━━━━━━━━━━━━━\u001b[0m\u001b[37m\u001b[0m \u001b[1m1s\u001b[0m 2ms/step - accuracy: 0.8639 - loss: 0.2778 - val_accuracy: 0.8652 - val_loss: 0.2885\n",
            "Epoch 33/70\n",
            "\u001b[1m401/401\u001b[0m \u001b[32m━━━━━━━━━━━━━━━━━━━━\u001b[0m\u001b[37m\u001b[0m \u001b[1m1s\u001b[0m 2ms/step - accuracy: 0.8624 - loss: 0.2703 - val_accuracy: 0.8590 - val_loss: 0.2884\n",
            "Epoch 34/70\n",
            "\u001b[1m401/401\u001b[0m \u001b[32m━━━━━━━━━━━━━━━━━━━━\u001b[0m\u001b[37m\u001b[0m \u001b[1m1s\u001b[0m 2ms/step - accuracy: 0.8733 - loss: 0.2638 - val_accuracy: 0.8583 - val_loss: 0.2850\n",
            "Epoch 35/70\n",
            "\u001b[1m401/401\u001b[0m \u001b[32m━━━━━━━━━━━━━━━━━━━━\u001b[0m\u001b[37m\u001b[0m \u001b[1m1s\u001b[0m 2ms/step - accuracy: 0.8630 - loss: 0.2776 - val_accuracy: 0.8596 - val_loss: 0.2901\n",
            "Epoch 36/70\n",
            "\u001b[1m401/401\u001b[0m \u001b[32m━━━━━━━━━━━━━━━━━━━━\u001b[0m\u001b[37m\u001b[0m \u001b[1m1s\u001b[0m 2ms/step - accuracy: 0.8620 - loss: 0.2770 - val_accuracy: 0.8608 - val_loss: 0.2938\n",
            "Epoch 37/70\n",
            "\u001b[1m401/401\u001b[0m \u001b[32m━━━━━━━━━━━━━━━━━━━━\u001b[0m\u001b[37m\u001b[0m \u001b[1m1s\u001b[0m 2ms/step - accuracy: 0.8682 - loss: 0.2725 - val_accuracy: 0.8658 - val_loss: 0.2868\n",
            "Epoch 38/70\n",
            "\u001b[1m401/401\u001b[0m \u001b[32m━━━━━━━━━━━━━━━━━━━━\u001b[0m\u001b[37m\u001b[0m \u001b[1m1s\u001b[0m 2ms/step - accuracy: 0.8599 - loss: 0.2815 - val_accuracy: 0.8502 - val_loss: 0.2960\n",
            "Epoch 39/70\n",
            "\u001b[1m401/401\u001b[0m \u001b[32m━━━━━━━━━━━━━━━━━━━━\u001b[0m\u001b[37m\u001b[0m \u001b[1m1s\u001b[0m 2ms/step - accuracy: 0.8701 - loss: 0.2671 - val_accuracy: 0.8646 - val_loss: 0.2891\n",
            "Epoch 40/70\n",
            "\u001b[1m401/401\u001b[0m \u001b[32m━━━━━━━━━━━━━━━━━━━━\u001b[0m\u001b[37m\u001b[0m \u001b[1m1s\u001b[0m 3ms/step - accuracy: 0.8706 - loss: 0.2637 - val_accuracy: 0.8596 - val_loss: 0.2889\n",
            "Epoch 41/70\n",
            "\u001b[1m401/401\u001b[0m \u001b[32m━━━━━━━━━━━━━━━━━━━━\u001b[0m\u001b[37m\u001b[0m \u001b[1m2s\u001b[0m 4ms/step - accuracy: 0.8730 - loss: 0.2648 - val_accuracy: 0.8621 - val_loss: 0.2831\n",
            "Epoch 42/70\n",
            "\u001b[1m401/401\u001b[0m \u001b[32m━━━━━━━━━━━━━━━━━━━━\u001b[0m\u001b[37m\u001b[0m \u001b[1m2s\u001b[0m 5ms/step - accuracy: 0.8720 - loss: 0.2687 - val_accuracy: 0.8649 - val_loss: 0.2848\n",
            "Epoch 43/70\n",
            "\u001b[1m401/401\u001b[0m \u001b[32m━━━━━━━━━━━━━━━━━━━━\u001b[0m\u001b[37m\u001b[0m \u001b[1m3s\u001b[0m 6ms/step - accuracy: 0.8723 - loss: 0.2689 - val_accuracy: 0.8618 - val_loss: 0.2963\n",
            "Epoch 44/70\n",
            "\u001b[1m401/401\u001b[0m \u001b[32m━━━━━━━━━━━━━━━━━━━━\u001b[0m\u001b[37m\u001b[0m \u001b[1m2s\u001b[0m 5ms/step - accuracy: 0.8690 - loss: 0.2699 - val_accuracy: 0.8661 - val_loss: 0.2837\n",
            "Epoch 45/70\n",
            "\u001b[1m401/401\u001b[0m \u001b[32m━━━━━━━━━━━━━━━━━━━━\u001b[0m\u001b[37m\u001b[0m \u001b[1m1s\u001b[0m 2ms/step - accuracy: 0.8652 - loss: 0.2715 - val_accuracy: 0.8512 - val_loss: 0.3005\n",
            "Epoch 46/70\n",
            "\u001b[1m401/401\u001b[0m \u001b[32m━━━━━━━━━━━━━━━━━━━━\u001b[0m\u001b[37m\u001b[0m \u001b[1m1s\u001b[0m 2ms/step - accuracy: 0.8719 - loss: 0.2626 - val_accuracy: 0.8468 - val_loss: 0.3070\n",
            "Epoch 47/70\n",
            "\u001b[1m401/401\u001b[0m \u001b[32m━━━━━━━━━━━━━━━━━━━━\u001b[0m\u001b[37m\u001b[0m \u001b[1m1s\u001b[0m 2ms/step - accuracy: 0.8742 - loss: 0.2649 - val_accuracy: 0.8674 - val_loss: 0.2785\n",
            "Epoch 48/70\n",
            "\u001b[1m401/401\u001b[0m \u001b[32m━━━━━━━━━━━━━━━━━━━━\u001b[0m\u001b[37m\u001b[0m \u001b[1m1s\u001b[0m 2ms/step - accuracy: 0.8726 - loss: 0.2652 - val_accuracy: 0.8696 - val_loss: 0.2875\n",
            "Epoch 49/70\n",
            "\u001b[1m401/401\u001b[0m \u001b[32m━━━━━━━━━━━━━━━━━━━━\u001b[0m\u001b[37m\u001b[0m \u001b[1m1s\u001b[0m 2ms/step - accuracy: 0.8708 - loss: 0.2671 - val_accuracy: 0.8733 - val_loss: 0.2835\n",
            "Epoch 50/70\n",
            "\u001b[1m401/401\u001b[0m \u001b[32m━━━━━━━━━━━━━━━━━━━━\u001b[0m\u001b[37m\u001b[0m \u001b[1m1s\u001b[0m 2ms/step - accuracy: 0.8697 - loss: 0.2660 - val_accuracy: 0.8587 - val_loss: 0.2971\n",
            "Epoch 51/70\n",
            "\u001b[1m401/401\u001b[0m \u001b[32m━━━━━━━━━━━━━━━━━━━━\u001b[0m\u001b[37m\u001b[0m \u001b[1m1s\u001b[0m 2ms/step - accuracy: 0.8745 - loss: 0.2651 - val_accuracy: 0.8683 - val_loss: 0.2857\n",
            "Epoch 52/70\n",
            "\u001b[1m401/401\u001b[0m \u001b[32m━━━━━━━━━━━━━━━━━━━━\u001b[0m\u001b[37m\u001b[0m \u001b[1m1s\u001b[0m 2ms/step - accuracy: 0.8716 - loss: 0.2655 - val_accuracy: 0.8715 - val_loss: 0.2829\n",
            "Epoch 53/70\n",
            "\u001b[1m401/401\u001b[0m \u001b[32m━━━━━━━━━━━━━━━━━━━━\u001b[0m\u001b[37m\u001b[0m \u001b[1m2s\u001b[0m 4ms/step - accuracy: 0.8730 - loss: 0.2608 - val_accuracy: 0.8599 - val_loss: 0.2940\n",
            "Epoch 54/70\n",
            "\u001b[1m401/401\u001b[0m \u001b[32m━━━━━━━━━━━━━━━━━━━━\u001b[0m\u001b[37m\u001b[0m \u001b[1m2s\u001b[0m 4ms/step - accuracy: 0.8745 - loss: 0.2691 - val_accuracy: 0.8665 - val_loss: 0.2873\n",
            "Epoch 55/70\n",
            "\u001b[1m401/401\u001b[0m \u001b[32m━━━━━━━━━━━━━━━━━━━━\u001b[0m\u001b[37m\u001b[0m \u001b[1m2s\u001b[0m 4ms/step - accuracy: 0.8778 - loss: 0.2589 - val_accuracy: 0.8715 - val_loss: 0.2822\n",
            "Epoch 56/70\n",
            "\u001b[1m401/401\u001b[0m \u001b[32m━━━━━━━━━━━━━━━━━━━━\u001b[0m\u001b[37m\u001b[0m \u001b[1m2s\u001b[0m 2ms/step - accuracy: 0.8662 - loss: 0.2659 - val_accuracy: 0.8652 - val_loss: 0.2855\n",
            "Epoch 57/70\n",
            "\u001b[1m401/401\u001b[0m \u001b[32m━━━━━━━━━━━━━━━━━━━━\u001b[0m\u001b[37m\u001b[0m \u001b[1m1s\u001b[0m 2ms/step - accuracy: 0.8726 - loss: 0.2642 - val_accuracy: 0.8559 - val_loss: 0.2941\n",
            "Epoch 58/70\n",
            "\u001b[1m401/401\u001b[0m \u001b[32m━━━━━━━━━━━━━━━━━━━━\u001b[0m\u001b[37m\u001b[0m \u001b[1m1s\u001b[0m 2ms/step - accuracy: 0.8727 - loss: 0.2643 - val_accuracy: 0.8727 - val_loss: 0.2811\n",
            "Epoch 59/70\n",
            "\u001b[1m401/401\u001b[0m \u001b[32m━━━━━━━━━━━━━━━━━━━━\u001b[0m\u001b[37m\u001b[0m \u001b[1m1s\u001b[0m 2ms/step - accuracy: 0.8770 - loss: 0.2594 - val_accuracy: 0.8705 - val_loss: 0.2818\n",
            "Epoch 60/70\n",
            "\u001b[1m401/401\u001b[0m \u001b[32m━━━━━━━━━━━━━━━━━━━━\u001b[0m\u001b[37m\u001b[0m \u001b[1m1s\u001b[0m 2ms/step - accuracy: 0.8746 - loss: 0.2621 - val_accuracy: 0.8715 - val_loss: 0.2833\n",
            "Epoch 61/70\n",
            "\u001b[1m401/401\u001b[0m \u001b[32m━━━━━━━━━━━━━━━━━━━━\u001b[0m\u001b[37m\u001b[0m \u001b[1m1s\u001b[0m 2ms/step - accuracy: 0.8788 - loss: 0.2551 - val_accuracy: 0.8715 - val_loss: 0.2822\n",
            "Epoch 62/70\n",
            "\u001b[1m401/401\u001b[0m \u001b[32m━━━━━━━━━━━━━━━━━━━━\u001b[0m\u001b[37m\u001b[0m \u001b[1m1s\u001b[0m 2ms/step - accuracy: 0.8773 - loss: 0.2574 - val_accuracy: 0.8671 - val_loss: 0.2861\n",
            "Epoch 63/70\n",
            "\u001b[1m401/401\u001b[0m \u001b[32m━━━━━━━━━━━━━━━━━━━━\u001b[0m\u001b[37m\u001b[0m \u001b[1m1s\u001b[0m 2ms/step - accuracy: 0.8763 - loss: 0.2579 - val_accuracy: 0.8562 - val_loss: 0.3102\n",
            "Epoch 64/70\n",
            "\u001b[1m 58/401\u001b[0m \u001b[32m━━\u001b[0m\u001b[37m━━━━━━━━━━━━━━━━━━\u001b[0m \u001b[1m0s\u001b[0m 2ms/step - accuracy: 0.8730 - loss: 0.2737"
          ]
        }
      ]
    },
    {
      "cell_type": "markdown",
      "source": [
        "The basic Keras model has been trained on the dataset. The next step is to evaluate the trained Keras model on the validation set to get the accuracy and loss."
      ],
      "metadata": {
        "id": "k91H9j9a6TxC"
      }
    },
    {
      "cell_type": "code",
      "source": [
        "# Evaluate the basic Keras model on the fixed validation set\n",
        "print(\"Evaluating Basic Keras Model with dataset...\")\n",
        "loss_basic_keras, accuracy_basic_keras = basic_keras_model.evaluate(X_val, y_val, verbose=0)\n",
        "\n",
        "print(f\"Basic Keras Model Evaluation - Loss: {loss_basic_keras:.4f}, Accuracy: {accuracy_basic_keras:.4f}\")"
      ],
      "metadata": {
        "id": "vKWs1Jby6XJT"
      },
      "execution_count": null,
      "outputs": []
    },
    {
      "cell_type": "markdown",
      "source": [
        "# LightGBM Model"
      ],
      "metadata": {
        "id": "6kUPL53I7P4A"
      }
    },
    {
      "cell_type": "code",
      "source": [
        "!pip install LightGBM"
      ],
      "metadata": {
        "id": "9TUfgiz5CwCj"
      },
      "execution_count": null,
      "outputs": []
    },
    {
      "cell_type": "code",
      "source": [
        "import lightgbm as lgb\n",
        "\n",
        "model_lgb = lgb.LGBMClassifier(\n",
        "    random_state=42,\n",
        "    n_estimators=1500,       # More trees since we're regularizing well\n",
        "    learning_rate=0.025,     # Slightly lower\n",
        "    num_leaves=20,           # Slight increase in complexity\n",
        "    max_depth=5,             # One level deeper\n",
        "    min_child_samples=40,    # Slightly less conservative\n",
        "    subsample=0.85,          # Slight increase\n",
        "    colsample_bytree=0.85,   # Slight increase\n",
        "    reg_alpha=0.25,          # Slightly less regularization\n",
        "    reg_lambda=0.25,         # Slightly less regularization\n",
        "    force_col_wise=True\n",
        ")\n",
        "\n",
        "print(\"\\nTraining LightGBM Model...\")\n",
        "model_lgb.fit(\n",
        "    X_train, y_train,\n",
        "    eval_set=[(X_train, y_train), (X_val, y_val)],\n",
        "    eval_metric=['logloss', 'accuracy'],\n",
        "    callbacks=[\n",
        "        lgb.early_stopping(150, verbose=False),  # More patience\n",
        "        lgb.log_evaluation(100)\n",
        "    ]\n",
        ")\n",
        "print(\"Training Done!\")"
      ],
      "metadata": {
        "id": "fkoKAOra7Wlk"
      },
      "execution_count": null,
      "outputs": []
    },
    {
      "cell_type": "markdown",
      "source": [
        "The LightGBM model has been trained on the dataset. The next step is to evaluate the trained LightGBM model on the validation set to get the accuracy and loss (logloss)."
      ],
      "metadata": {
        "id": "mnqikQ0G9kc3"
      }
    },
    {
      "cell_type": "code",
      "source": [
        "from sklearn.metrics import accuracy_score, log_loss\n",
        "\n",
        "# Evaluate the LightGBM model on the fixed validation set\n",
        "print(\"Evaluating LightGBM Model with dataset...\")\n",
        "y_pred_lgb = model_lgb.predict(X_val)\n",
        "y_pred_proba_lgb = model_lgb.predict_proba(X_val)[:, 1]\n",
        "accuracy_lgb = accuracy_score(y_val, y_pred_lgb)\n",
        "logloss_lgb = log_loss(y_val, y_pred_proba_lgb)\n",
        "\n",
        "# Calculate logloss if there are both positive and negative classes in the validation set\n",
        "# Check if y_val_fixed contains both 0 and 1\n",
        "if len(y_val.unique()) > 1:\n",
        "    logloss_lgb = log_loss(y_val, y_pred_proba_lgb)\n",
        "    print(f\"LightGBM Model Evaluation - Loss: {logloss_lgb:.4f}, Accuracy: {accuracy_lgb:.4f}\")\n",
        "else:\n",
        "    print(f\"LightGBM Model Evaluation - Loss: {logloss_lgb:.4f}, Accuracy: {accuracy_lgb:.4f}\")"
      ],
      "metadata": {
        "id": "yTVv2B199q9G"
      },
      "execution_count": null,
      "outputs": []
    },
    {
      "cell_type": "markdown",
      "source": [
        "# **04. Comparison between the Models**\n",
        "Comparison of the validation loss and accuracy scores of the two models and print a conclusion based on the results."
      ],
      "metadata": {
        "id": "UfslMQE9-_2Y"
      }
    },
    {
      "cell_type": "code",
      "source": [
        "# Compare the validation loss and accuracy scores\n",
        "\n",
        "print(\"Comparison between the Models\")\n",
        "print(f\"Basic Keras Model - Loss: {history_keras_model.history['val_loss'][-1]:.4f}, Accuracy: {history_keras_model.history['val_accuracy'][-1]:.4f}\")\n",
        "print(f\"LightGBM Model - Loss: {logloss_lgb:.4f}, Accuracy: {accuracy_lgb:.4f}\")"
      ],
      "metadata": {
        "id": "4QEDJTWAAcJj"
      },
      "execution_count": null,
      "outputs": []
    }
  ]
}